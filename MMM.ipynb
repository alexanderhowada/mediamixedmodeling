{
 "cells": [
  {
   "cell_type": "code",
   "execution_count": 1,
   "id": "parallel-flavor",
   "metadata": {},
   "outputs": [
    {
     "name": "stdout",
     "output_type": "stream",
     "text": [
      "importing Jupyter notebook from GenerateRandomMMMData.ipynb\n",
      "importing Jupyter notebook from LogisticGrowth.ipynb\n",
      "importing Jupyter notebook from GeometricDecay.ipynb\n"
     ]
    }
   ],
   "source": [
    "import numpy as np\n",
    "import nevergrad as ng\n",
    "\n",
    "import import_ipynb\n",
    "from GenerateRandomMMMData import GenerateRandomMMMData\n",
    "from GeometricDecay import GeometricDecay"
   ]
  },
  {
   "cell_type": "code",
   "execution_count": 2,
   "id": "contemporary-giant",
   "metadata": {},
   "outputs": [],
   "source": [
    "class GeometricDecayMinimizer:\n",
    "    def __init__(self, media, adstocked, theta = 0.5):\n",
    "        self.theta = theta\n",
    "        self.media = media\n",
    "        self.adstocked = adstocked\n",
    "\n",
    "    def to_minimize(self, theta):\n",
    "        GD = GeometricDecay(theta)\n",
    "        return np.power(GD(self.media)-self.adstocked, 2.0).mean()\n",
    "    \n",
    "    def minimize(self):\n",
    "        optimizer = ng.optimizers.NGOpt(parametrization=1, budget=100)\n",
    "        recommendation = optimizer.minimize(self.to_minimize)\n",
    "        return recommendation"
   ]
  },
  {
   "cell_type": "code",
   "execution_count": 3,
   "id": "joint-sharing",
   "metadata": {},
   "outputs": [
    {
     "data": {
      "text/html": [
       "<div>\n",
       "<style scoped>\n",
       "    .dataframe tbody tr th:only-of-type {\n",
       "        vertical-align: middle;\n",
       "    }\n",
       "\n",
       "    .dataframe tbody tr th {\n",
       "        vertical-align: top;\n",
       "    }\n",
       "\n",
       "    .dataframe thead th {\n",
       "        text-align: right;\n",
       "    }\n",
       "</style>\n",
       "<table border=\"1\" class=\"dataframe\">\n",
       "  <thead>\n",
       "    <tr style=\"text-align: right;\">\n",
       "      <th></th>\n",
       "      <th>var_0</th>\n",
       "      <th>var_1</th>\n",
       "      <th>var_2</th>\n",
       "      <th>var_3</th>\n",
       "      <th>var_4</th>\n",
       "      <th>var_5</th>\n",
       "      <th>var_6</th>\n",
       "      <th>media_0</th>\n",
       "      <th>media_1</th>\n",
       "      <th>media_2</th>\n",
       "      <th>sales</th>\n",
       "    </tr>\n",
       "  </thead>\n",
       "  <tbody>\n",
       "    <tr>\n",
       "      <th>0</th>\n",
       "      <td>0.417022</td>\n",
       "      <td>0.326645</td>\n",
       "      <td>0.950176</td>\n",
       "      <td>0.811859</td>\n",
       "      <td>0.959434</td>\n",
       "      <td>0.087482</td>\n",
       "      <td>0.674564</td>\n",
       "      <td>0.138355</td>\n",
       "      <td>0.888386</td>\n",
       "      <td>0.245519</td>\n",
       "      <td>9.784847</td>\n",
       "    </tr>\n",
       "    <tr>\n",
       "      <th>1</th>\n",
       "      <td>0.720324</td>\n",
       "      <td>0.527058</td>\n",
       "      <td>0.556653</td>\n",
       "      <td>0.874962</td>\n",
       "      <td>0.803961</td>\n",
       "      <td>0.227310</td>\n",
       "      <td>0.799777</td>\n",
       "      <td>0.290144</td>\n",
       "      <td>0.184384</td>\n",
       "      <td>0.911019</td>\n",
       "      <td>10.522125</td>\n",
       "    </tr>\n",
       "    <tr>\n",
       "      <th>2</th>\n",
       "      <td>0.000114</td>\n",
       "      <td>0.885942</td>\n",
       "      <td>0.915606</td>\n",
       "      <td>0.688413</td>\n",
       "      <td>0.032323</td>\n",
       "      <td>0.314377</td>\n",
       "      <td>0.080530</td>\n",
       "      <td>0.613871</td>\n",
       "      <td>0.585348</td>\n",
       "      <td>0.043534</td>\n",
       "      <td>12.358168</td>\n",
       "    </tr>\n",
       "    <tr>\n",
       "      <th>3</th>\n",
       "      <td>0.302333</td>\n",
       "      <td>0.357270</td>\n",
       "      <td>0.641566</td>\n",
       "      <td>0.569494</td>\n",
       "      <td>0.709387</td>\n",
       "      <td>0.174766</td>\n",
       "      <td>0.231702</td>\n",
       "      <td>0.324139</td>\n",
       "      <td>0.898205</td>\n",
       "      <td>0.950753</td>\n",
       "      <td>10.250011</td>\n",
       "    </tr>\n",
       "    <tr>\n",
       "      <th>4</th>\n",
       "      <td>0.146756</td>\n",
       "      <td>0.908535</td>\n",
       "      <td>0.390008</td>\n",
       "      <td>0.160971</td>\n",
       "      <td>0.465001</td>\n",
       "      <td>0.607094</td>\n",
       "      <td>0.207626</td>\n",
       "      <td>0.457360</td>\n",
       "      <td>0.446117</td>\n",
       "      <td>0.556407</td>\n",
       "      <td>12.783680</td>\n",
       "    </tr>\n",
       "  </tbody>\n",
       "</table>\n",
       "</div>"
      ],
      "text/plain": [
       "      var_0     var_1     var_2     var_3     var_4     var_5     var_6  \\\n",
       "0  0.417022  0.326645  0.950176  0.811859  0.959434  0.087482  0.674564   \n",
       "1  0.720324  0.527058  0.556653  0.874962  0.803961  0.227310  0.799777   \n",
       "2  0.000114  0.885942  0.915606  0.688413  0.032323  0.314377  0.080530   \n",
       "3  0.302333  0.357270  0.641566  0.569494  0.709387  0.174766  0.231702   \n",
       "4  0.146756  0.908535  0.390008  0.160971  0.465001  0.607094  0.207626   \n",
       "\n",
       "    media_0   media_1   media_2      sales  \n",
       "0  0.138355  0.888386  0.245519   9.784847  \n",
       "1  0.290144  0.184384  0.911019  10.522125  \n",
       "2  0.613871  0.585348  0.043534  12.358168  \n",
       "3  0.324139  0.898205  0.950753  10.250011  \n",
       "4  0.457360  0.446117  0.556407  12.783680  "
      ]
     },
     "metadata": {},
     "output_type": "display_data"
    },
    {
     "data": {
      "text/plain": [
       "media_0    0.041475\n",
       "media_1    0.321829\n",
       "media_2    0.037113\n",
       "dtype: float64"
      ]
     },
     "metadata": {},
     "output_type": "display_data"
    },
    {
     "data": {
      "text/plain": [
       "{'media_0': array([0.13835469, 0.29588273, 0.62614285, 0.35010785, 0.47188093,\n",
       "        0.46368841, 0.84736687, 0.46149276, 0.36483927, 0.69010334,\n",
       "        0.25010415, 0.47761891, 0.33457497, 0.64073213, 0.90393489,\n",
       "        0.48517977, 0.80458029, 0.49033573, 0.67656605, 0.15990161,\n",
       "        0.43961344, 0.92754499, 0.643949  , 0.79348242, 0.53761035,\n",
       "        0.52035306, 0.86448152, 0.10366137, 0.57757164, 0.9667174 ,\n",
       "        0.55795473, 0.21760703, 0.85696466, 0.28718182, 0.71263693,\n",
       "        0.56981761, 0.97246952, 0.66466995, 0.8655452 , 0.04383143,\n",
       "        0.99115797, 0.11882293, 0.3270577 , 0.95971714, 0.04874345,\n",
       "        0.82475164, 0.89541828, 0.47696836, 0.27552749, 0.81411704,\n",
       "        0.51162757, 0.1555584 , 0.93430079, 0.93472017, 0.53031274,\n",
       "        0.87869726, 0.45502206, 0.70233698, 0.42712012, 0.52345686,\n",
       "        0.21126212, 0.97375104, 0.33460209, 0.1173372 , 0.14918197,\n",
       "        0.02027963, 0.7167868 , 0.59422711, 0.81922397, 0.5410573 ,\n",
       "        0.81426143, 0.72953577, 0.80810603, 0.43999913, 0.66601963,\n",
       "        0.20741751, 0.33042262, 0.18630892, 0.4163644 , 0.25868749,\n",
       "        0.41765108, 0.99254445, 0.36148519, 0.99748357, 0.67767684,\n",
       "        0.40319772, 0.87420716, 0.65584455, 0.27923429, 0.80443694,\n",
       "        0.46630259, 0.3768511 , 0.34590687, 0.71171539, 0.29816858,\n",
       "        0.82064458, 0.32932509, 0.55778017, 0.51105547, 0.87655248]),\n",
       " 'media_1': array([0.88838643, 0.47029278, 0.73670222, 1.13529704, 0.8114885 ,\n",
       "        1.18302868, 0.65972359, 0.82114923, 0.94672318, 0.53288852,\n",
       "        0.18526638, 0.47634802, 1.0917844 , 0.69439577, 1.00322085,\n",
       "        0.49760168, 0.50209539, 0.30618648, 0.81531044, 0.961698  ,\n",
       "        0.99799943, 0.57458099, 0.87727683, 0.50963049, 0.58866289,\n",
       "        0.56137079, 0.5359732 , 0.23014642, 0.70571437, 0.93443581,\n",
       "        0.91431705, 0.94256632, 0.4732857 , 0.30176377, 0.61129131,\n",
       "        1.07206388, 0.52897447, 0.63307834, 0.63267518, 0.70090228,\n",
       "        0.38708131, 0.46701455, 0.41217914, 0.97717806, 1.11481629,\n",
       "        0.78541915, 0.85978596, 0.42216949, 0.6454796 , 0.50468101,\n",
       "        1.02207184, 1.00053053, 0.95547355, 0.43225021, 0.60969844,\n",
       "        1.1827913 , 1.32895548, 1.07278179, 0.49697695, 0.79906834,\n",
       "        0.82282532, 0.73347472, 0.66409076, 0.81299329, 1.11161454,\n",
       "        1.10887061, 0.93622704, 1.22600901, 0.45930499, 1.13916408,\n",
       "        0.41961035, 0.33453824, 0.5304167 , 0.27821225, 0.71320712,\n",
       "        0.27752316, 0.37393883, 0.18138096, 0.76189295, 0.91365526,\n",
       "        0.67262117, 0.40466312, 0.87723708, 0.62269945, 0.99570378,\n",
       "        0.80834709, 0.78581882, 0.28138998, 0.73479142, 0.58713354,\n",
       "        0.41816151, 0.56845979, 0.56541419, 0.65175561, 1.18923708,\n",
       "        0.74710881, 1.01485127, 0.87937596, 1.1721396 , 0.73218113]),\n",
       " 'media_2': array([0.24551868, 0.92013109, 0.07768278, 0.95363644, 0.59179891,\n",
       "        0.39832645, 1.00983528, 0.09584032, 0.52026325, 0.05040543,\n",
       "        0.57304642, 0.20173579, 0.63844615, 1.00461811, 0.91218661,\n",
       "        0.48568992, 0.72648612, 0.80443059, 0.52469765, 0.54800642,\n",
       "        0.17112238, 0.37575073, 0.15616636, 0.7326895 , 0.50420505,\n",
       "        0.46759123, 0.90335153, 0.56114455, 0.4299164 , 0.28484737,\n",
       "        0.08258348, 0.42120103, 0.04138537, 0.29268986, 0.51437201,\n",
       "        0.98502278, 0.14593973, 0.67845727, 0.52511173, 0.79658652,\n",
       "        0.17317045, 0.08962945, 0.40254499, 0.81190177, 0.22180758,\n",
       "        0.77600906, 0.31909776, 0.22873406, 0.02520452, 0.39959447,\n",
       "        0.39591151, 0.67403827, 0.09593376, 0.15616434, 0.02237156,\n",
       "        0.11462662, 0.65604338, 0.42700437, 0.33687358, 0.57041427,\n",
       "        1.01463006, 0.87214214, 0.7319907 , 0.94542471, 0.07481594,\n",
       "        0.07311006, 0.4767196 , 0.36685975, 0.9508672 , 0.52485418,\n",
       "        0.55912785, 0.91601109, 0.48063066, 0.89487187, 0.28679283,\n",
       "        0.28445335, 0.33891821, 0.56014243, 0.24091705, 0.68037024,\n",
       "        0.16804364, 0.10033682, 0.87391551, 0.26930204, 0.39599853,\n",
       "        0.58623865, 0.54755885, 0.09634525, 0.87770156, 0.98370946,\n",
       "        0.84901538, 0.31531106, 0.53954883, 0.35944082, 0.56800712,\n",
       "        0.99548373, 0.34864797, 0.68173586, 0.35126824, 0.78751377])}"
      ]
     },
     "metadata": {},
     "output_type": "display_data"
    }
   ],
   "source": [
    "GR = GenerateRandomMMMData()\n",
    "data_df = GR.get_data()\n",
    "coefs = GR.coefs\n",
    "params = GR.params\n",
    "thetas = GR.thetas\n",
    "adstocked = GR.adstocked_media\n",
    "\n",
    "display(data_df.head())\n",
    "display(thetas)\n",
    "display(adstocked)"
   ]
  },
  {
   "cell_type": "code",
   "execution_count": 8,
   "id": "humanitarian-operations",
   "metadata": {},
   "outputs": [
    {
     "name": "stderr",
     "output_type": "stream",
     "text": [
      "/home/fatgodzilla/.local/lib/python3.8/site-packages/nevergrad/optimization/base.py:146: LossTooLargeWarning: Clipping very high value 1.9246831997670419e+25 in tell (rescale the cost function?).\n",
      "  warnings.warn(msg, e)\n",
      "/home/fatgodzilla/.local/lib/python3.8/site-packages/nevergrad/optimization/base.py:146: LossTooLargeWarning: Clipping very high value 5e+20 in tell (rescale the cost function?).\n",
      "  warnings.warn(msg, e)\n"
     ]
    },
    {
     "name": "stdout",
     "output_type": "stream",
     "text": [
      "media_0 Array:[0.04147508] 0.041475079576498874 Array{Mult(24.110863926265555)}:[1.00000005]\n"
     ]
    },
    {
     "name": "stderr",
     "output_type": "stream",
     "text": [
      "/home/fatgodzilla/.local/lib/python3.8/site-packages/nevergrad/optimization/base.py:146: LossTooLargeWarning: Clipping very high value 9.011610737732926e+21 in tell (rescale the cost function?).\n",
      "  warnings.warn(msg, e)\n",
      "/home/fatgodzilla/.local/lib/python3.8/site-packages/nevergrad/optimization/base.py:146: LossTooLargeWarning: Clipping very high value 5e+20 in tell (rescale the cost function?).\n",
      "  warnings.warn(msg, e)\n"
     ]
    },
    {
     "name": "stdout",
     "output_type": "stream",
     "text": [
      "media_1 Array:[0.3218288] 0.3218287999702445 Array{Mult(3.107242111621016)}:[0.99999999]\n"
     ]
    },
    {
     "name": "stderr",
     "output_type": "stream",
     "text": [
      "/home/fatgodzilla/.local/lib/python3.8/site-packages/nevergrad/optimization/base.py:146: LossTooLargeWarning: Clipping very high value 1.0265102507219684e+25 in tell (rescale the cost function?).\n",
      "  warnings.warn(msg, e)\n",
      "/home/fatgodzilla/.local/lib/python3.8/site-packages/nevergrad/optimization/base.py:146: LossTooLargeWarning: Clipping very high value 5e+20 in tell (rescale the cost function?).\n",
      "  warnings.warn(msg, e)\n"
     ]
    },
    {
     "name": "stdout",
     "output_type": "stream",
     "text": [
      "media_2 Array:[0.03711266] 0.03711266449399442 Array{Mult(26.944979931630083)}:[0.9999998]\n"
     ]
    }
   ],
   "source": [
    "for m,t in thetas.iteritems():\n",
    "    GDM = GeometricDecayMinimizer(data_df[m], adstocked[m])\n",
    "    r = GDM.minimize()\n",
    "    \n",
    "    print(m, r, t, r/t)"
   ]
  },
  {
   "cell_type": "code",
   "execution_count": 5,
   "id": "material-parts",
   "metadata": {},
   "outputs": [
    {
     "data": {
      "text/plain": [
       "Array:[0.03711266]"
      ]
     },
     "execution_count": 5,
     "metadata": {},
     "output_type": "execute_result"
    }
   ],
   "source": [
    "r"
   ]
  },
  {
   "cell_type": "code",
   "execution_count": 6,
   "id": "social-tunnel",
   "metadata": {},
   "outputs": [
    {
     "data": {
      "text/plain": [
       "-4.48610874561467e-06"
      ]
     },
     "execution_count": 6,
     "metadata": {},
     "output_type": "execute_result"
    }
   ],
   "source": [
    "GD = GeometricDecay(theta = 0.041475)\n",
    "np.power(GD(data_df['media_0'])-adstocked['media_0'], 1).sum()"
   ]
  }
 ],
 "metadata": {
  "kernelspec": {
   "display_name": "Python 3",
   "language": "python",
   "name": "python3"
  },
  "language_info": {
   "codemirror_mode": {
    "name": "ipython",
    "version": 3
   },
   "file_extension": ".py",
   "mimetype": "text/x-python",
   "name": "python",
   "nbconvert_exporter": "python",
   "pygments_lexer": "ipython3",
   "version": "3.8.10"
  }
 },
 "nbformat": 4,
 "nbformat_minor": 5
}
