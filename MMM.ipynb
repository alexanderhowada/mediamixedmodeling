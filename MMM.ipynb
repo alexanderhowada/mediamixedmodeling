{
 "cells": [
  {
   "cell_type": "code",
   "execution_count": 1,
   "id": "parallel-flavor",
   "metadata": {},
   "outputs": [
    {
     "name": "stdout",
     "output_type": "stream",
     "text": [
      "importing Jupyter notebook from GenerateRandomMMMData.ipynb\n",
      "importing Jupyter notebook from LogisticGrowth.ipynb\n",
      "importing Jupyter notebook from Hill.ipynb\n",
      "importing Jupyter notebook from GeometricDecay.ipynb\n"
     ]
    }
   ],
   "source": [
    "import numpy as np\n",
    "import pandas as pd\n",
    "import nevergrad as ng\n",
    "from scipy.optimize import minimize, lsq_linear\n",
    "from sklearn.linear_model import LinearRegression\n",
    "\n",
    "import plotly.graph_objects as go\n",
    "\n",
    "from tqdm import tqdm\n",
    "from datetime import datetime\n",
    "\n",
    "import import_ipynb\n",
    "from GenerateRandomMMMData import GenerateRandomMMMData\n",
    "from GeometricDecay import GeometricDecay\n",
    "from LogisticGrowth import LogisticGrowth, LogisticGrowthNoOffset\n",
    "from Hill import Hill"
   ]
  },
  {
   "cell_type": "code",
   "execution_count": 2,
   "id": "contemporary-giant",
   "metadata": {},
   "outputs": [],
   "source": [
    "class GeometricDecayMinimizer:\n",
    "    def __init__(self, data_df, medias, other, target):\n",
    "        self.data_df = data_df.copy()\n",
    "        self.other = other\n",
    "        self.medias = medias\n",
    "        self.target = target\n",
    "        \n",
    "    def to_minimize(self, *args):\n",
    "        self.args = args\n",
    "        medias = self.transform_media(self.data_df)\n",
    "        \n",
    "        lb  = [-np.inf for m in self.other]\n",
    "        lb += [0 for m in self.medias]\n",
    "        ub = [np.inf for m in self.other+self.medias]\n",
    "        \n",
    "        self.model = lsq_linear(medias[self.other+self.medias], self.target, bounds=[lb, ub])\n",
    "    \n",
    "        diff = np.zeros(medias.index.size)\n",
    "        for i,m in enumerate(self.other+self.medias):\n",
    "            diff += self.model.x[i]*medias[m]#+10*self.model.x[i]*self.model.x[i]\n",
    "\n",
    "        cond = self.target != 0\n",
    "        diff = np.power((diff[cond]-self.target[cond])/self.target[cond], 2.0).mean()\n",
    "\n",
    "        return diff\n",
    "    \n",
    "    def transform_media(self, df):\n",
    "        n_medias = len(self.medias)\n",
    "        thetas = self.args[0][:n_medias]\n",
    "        scales = self.args[0][n_medias:2*n_medias]\n",
    "        offset = self.args[0][2*n_medias:]\n",
    "        \n",
    "        medias = df.copy()\n",
    "        for i,m in enumerate(self.medias):\n",
    "            GD = GeometricDecay(thetas[i])\n",
    "#             LG = LogisticGrowth(scales[i], offset[i])\n",
    "            LG = Hill(scales[i], offset[i])\n",
    "            medias[m] = LG(GD(medias[m]))\n",
    "            \n",
    "        return medias\n",
    "    \n",
    "    def predict(self, df):\n",
    "        medias = self.transform_media(df)\n",
    "        results = np.zeros(medias.index.size)\n",
    "        for i,m in enumerate(self.other+self.medias):\n",
    "            results += self.model.x[i]*medias[m]\n",
    "        return results\n",
    "    \n",
    "    def nevergrad_optimize(self):\n",
    "        optimizer = ng.optimizers.NGOpt(parametrization=3, budget=100)\n",
    "        recommendation = optimizer.minimize(self.to_minimize)\n",
    "        return recommendation\n",
    "    \n",
    "    def scipy_minimize(self, **kwargs):\n",
    "        return minimize(self.to_minimize, **kwargs)"
   ]
  },
  {
   "cell_type": "code",
   "execution_count": 3,
   "id": "joint-sharing",
   "metadata": {},
   "outputs": [],
   "source": [
    "if __name__ == '__main__':\n",
    "    \"\"\"generate random data and get true values\"\"\"\n",
    "    GR = GenerateRandomMMMData(size=100, noise_intensity = 0.0)\n",
    "    data_df = GR.get_data()\n",
    "    data_df['intercept'] = 1\n",
    "    \n",
    "    coefs = GR.coefs\n",
    "    params = GR.params\n",
    "    thetas = GR.thetas\n",
    "    adstocked = GR.adstocked_media\n",
    "    saturated = GR.saturated_media\n",
    "\n",
    "    true_x0 = []\n",
    "    true_x0 += list(thetas.values)\n",
    "    true_x0 += [params[m]['shape'] for m in params.keys()]\n",
    "    true_x0 += [params[m]['offset'] for m in params.keys()]"
   ]
  },
  {
   "cell_type": "code",
   "execution_count": 4,
   "id": "overall-inflation",
   "metadata": {},
   "outputs": [
    {
     "name": "stderr",
     "output_type": "stream",
     "text": [
      "100%|██████████| 10/10 [00:20<00:00,  2.04s/it]"
     ]
    },
    {
     "name": "stdout",
     "output_type": "stream",
     "text": [
      "elapsed time = 0:00:20.421361\n"
     ]
    },
    {
     "name": "stderr",
     "output_type": "stream",
     "text": [
      "\n"
     ]
    },
    {
     "data": {
      "text/html": [
       "<div>\n",
       "<style scoped>\n",
       "    .dataframe tbody tr th:only-of-type {\n",
       "        vertical-align: middle;\n",
       "    }\n",
       "\n",
       "    .dataframe tbody tr th {\n",
       "        vertical-align: top;\n",
       "    }\n",
       "\n",
       "    .dataframe thead th {\n",
       "        text-align: right;\n",
       "    }\n",
       "</style>\n",
       "<table border=\"1\" class=\"dataframe\">\n",
       "  <thead>\n",
       "    <tr style=\"text-align: right;\">\n",
       "      <th></th>\n",
       "      <th>fun</th>\n",
       "      <th>x</th>\n",
       "      <th>x0</th>\n",
       "    </tr>\n",
       "  </thead>\n",
       "  <tbody>\n",
       "    <tr>\n",
       "      <th>0</th>\n",
       "      <td>0.00086</td>\n",
       "      <td>[0.040269837194097546, 0.42771708835254446, 0....</td>\n",
       "      <td>[69.25227607183744, 66.83303752886678, -43.068...</td>\n",
       "    </tr>\n",
       "    <tr>\n",
       "      <th>1</th>\n",
       "      <td>0.002648</td>\n",
       "      <td>[0.03193370870796236, 0.5326890876651101, 0.30...</td>\n",
       "      <td>[69.24125329275694, 66.76852938398966, -42.994...</td>\n",
       "    </tr>\n",
       "    <tr>\n",
       "      <th>2</th>\n",
       "      <td>0.003371</td>\n",
       "      <td>[0.0, 0.5705340959098584, 0.6127824453544889, ...</td>\n",
       "      <td>[69.29852182195287, 66.7802042202969, -43.0375...</td>\n",
       "    </tr>\n",
       "    <tr>\n",
       "      <th>3</th>\n",
       "      <td>0.003784</td>\n",
       "      <td>[0.25696661569158047, 0.6025687404408224, 0.12...</td>\n",
       "      <td>[69.22242750589291, 66.72260575322122, -43.014...</td>\n",
       "    </tr>\n",
       "    <tr>\n",
       "      <th>4</th>\n",
       "      <td>0.015521</td>\n",
       "      <td>[0.10180306745849908, 0.7293162344558586, 0.68...</td>\n",
       "      <td>[69.02989913117425, 66.81643819364719, -43.177...</td>\n",
       "    </tr>\n",
       "  </tbody>\n",
       "</table>\n",
       "</div>"
      ],
      "text/plain": [
       "        fun                                                  x  \\\n",
       "0   0.00086  [0.040269837194097546, 0.42771708835254446, 0....   \n",
       "1  0.002648  [0.03193370870796236, 0.5326890876651101, 0.30...   \n",
       "2  0.003371  [0.0, 0.5705340959098584, 0.6127824453544889, ...   \n",
       "3  0.003784  [0.25696661569158047, 0.6025687404408224, 0.12...   \n",
       "4  0.015521  [0.10180306745849908, 0.7293162344558586, 0.68...   \n",
       "\n",
       "                                                  x0  \n",
       "0  [69.25227607183744, 66.83303752886678, -43.068...  \n",
       "1  [69.24125329275694, 66.76852938398966, -42.994...  \n",
       "2  [69.29852182195287, 66.7802042202969, -43.0375...  \n",
       "3  [69.22242750589291, 66.72260575322122, -43.014...  \n",
       "4  [69.02989913117425, 66.81643819364719, -43.177...  "
      ]
     },
     "metadata": {},
     "output_type": "display_data"
    },
    {
     "data": {
      "text/plain": [
       "[0.041475079576498874,\n",
       " 0.3218287999702445,\n",
       " 0.03711266449399442,\n",
       " 0.4258099666132048,\n",
       " 0.8517077209192668,\n",
       " 0.5694790285599257,\n",
       " 8.89827341447375,\n",
       " 7.626320954451106,\n",
       " 2.107645024687054]"
      ]
     },
     "metadata": {},
     "output_type": "display_data"
    }
   ],
   "source": [
    "if __name__ == '__main__':\n",
    "    \"\"\"run MMM many times and choose model that minimizes objective\"\"\"\n",
    "    r_list = []\n",
    "    t1 = datetime.now()\n",
    "    for i in tqdm(range(10)):\n",
    "        GDM = GeometricDecayMinimizer(data_df, GR.media_columns, GR.var_columns+['intercept'], data_df['sales'])\n",
    "        bounds = [(0,1),(0,1),(0,1), (0.1,1.2),(0.1,1.2),(0.1,1.2), (0,10), (0,10), (0,10)]\n",
    "\n",
    "        x0 = [np.mean(t) for t in bounds]\n",
    "        x0 = [t[1]*np.random.random() for t in bounds]\n",
    "\n",
    "        r = GDM.scipy_minimize(x0=x0, tol=1e-3, bounds=bounds, jac='3-point')\n",
    "        r_list.append([r.fun, r.x, GDM.model.x])\n",
    "    \n",
    "    r_df = pd.DataFrame(\n",
    "        np.asarray(r_list, dtype='object'),\n",
    "        columns = ['fun', 'x', 'x0']\n",
    "    )\n",
    "    r_df = r_df.sort_values(by='fun', ignore_index=True)\n",
    "    print(f\"elapsed time = {datetime.now() - t1}\")\n",
    "    display(r_df.head())\n",
    "    display(true_x0)"
   ]
  },
  {
   "cell_type": "code",
   "execution_count": 5,
   "id": "welsh-consolidation",
   "metadata": {},
   "outputs": [
    {
     "data": {
      "text/plain": [
       "0     0.00086\n",
       "1    0.002648\n",
       "2    0.003371\n",
       "3    0.003784\n",
       "4    0.015521\n",
       "Name: fun, dtype: object"
      ]
     },
     "metadata": {},
     "output_type": "display_data"
    },
    {
     "data": {
      "text/plain": [
       "array([0.04026984, 0.42771709, 0.17412664, 0.10011946, 0.24206767,\n",
       "       0.4282807 , 9.19545885, 8.06411794, 8.79341105])"
      ]
     },
     "metadata": {},
     "output_type": "display_data"
    },
    {
     "data": {
      "text/plain": [
       "[0.041475079576498874,\n",
       " 0.3218287999702445,\n",
       " 0.03711266449399442,\n",
       " 0.4258099666132048,\n",
       " 0.8517077209192668,\n",
       " 0.5694790285599257,\n",
       " 8.89827341447375,\n",
       " 7.626320954451106,\n",
       " 2.107645024687054]"
      ]
     },
     "metadata": {},
     "output_type": "display_data"
    }
   ],
   "source": [
    "if __name__ == '__main__':\n",
    "    \"\"\"show final minimization value\"\"\"\n",
    "    display(r_df.head()['fun'])\n",
    "    \n",
    "    \"\"\"compare true values with values from MMM\"\"\"\n",
    "    display(r_df.loc[0,'x'])\n",
    "    display(true_x0)"
   ]
  },
  {
   "cell_type": "code",
   "execution_count": 8,
   "id": "vietnamese-latino",
   "metadata": {},
   "outputs": [
    {
     "data": {
      "application/vnd.plotly.v1+json": {
       "config": {
        "plotlyServerURL": "https://plot.ly"
       },
       "data": [
        {
         "mode": "lines",
         "name": "mmm",
         "type": "scatter",
         "x": [
          0,
          1,
          2,
          3,
          4,
          5,
          6,
          7,
          8,
          9,
          10,
          11,
          12,
          13,
          14,
          15,
          16,
          17,
          18,
          19,
          20,
          21,
          22,
          23,
          24,
          25,
          26,
          27,
          28,
          29,
          30,
          31,
          32,
          33,
          34,
          35,
          36,
          37,
          38,
          39,
          40,
          41,
          42,
          43,
          44,
          45,
          46,
          47,
          48,
          49,
          50,
          51,
          52,
          53,
          54,
          55,
          56,
          57,
          58,
          59,
          60,
          61,
          62,
          63,
          64,
          65,
          66,
          67,
          68,
          69,
          70,
          71,
          72,
          73,
          74,
          75,
          76,
          77,
          78,
          79,
          80,
          81,
          82,
          83,
          84,
          85,
          86,
          87,
          88,
          89,
          90,
          91,
          92,
          93,
          94,
          95,
          96,
          97,
          98,
          99
         ],
         "y": [
          -76.76074800269554,
          -20.42594885084548,
          -15.184347697091972,
          -40.60000463293241,
          38.00233532848989,
          -27.30297120193081,
          -22.834032376856825,
          57.52288083758298,
          5.8598143457169884,
          46.82063570984304,
          -32.55681539891966,
          -59.22434129777521,
          36.457174046358794,
          82.6493335370788,
          -33.98825050316704,
          49.073538570909534,
          -2.645802355339306,
          41.076091852791706,
          -17.157603780763512,
          -56.300720367676874,
          28.81653314008649,
          30.665940908407052,
          18.077590243196788,
          43.339736475134686,
          66.70478059284795,
          37.06341710114423,
          32.67581691991747,
          -41.339819616037325,
          -52.40391220054185,
          -21.919107814373486,
          11.052410861554923,
          17.735645403589782,
          54.531998023276245,
          -19.621498319154128,
          4.220417620134173,
          8.460057631560305,
          55.890739841954236,
          10.226229377568236,
          -40.13639310256789,
          39.458223902057966,
          10.619369218865469,
          -25.28476456770121,
          -72.65680608675125,
          16.372672471977875,
          -57.66953213910847,
          -63.37937902596727,
          0.0803998988455441,
          -27.5847520413717,
          -20.17953729793353,
          -18.57177169798658,
          -38.62031924717867,
          -0.44189539382365206,
          -3.3455190158948636,
          -63.87454022265031,
          -30.47532444853395,
          -25.547903155613565,
          -54.049124376221826,
          -13.97771003275594,
          46.589519789243035,
          17.1880591708657,
          -11.431983375745617,
          -0.36840267697985674,
          -1.317539011834545,
          25.111041942626382,
          -122.21634363605013,
          -16.530226617113353,
          -77.79610283842693,
          13.069749273815013,
          49.96697685271302,
          55.70089746465157,
          19.84476823172392,
          63.55556186345997,
          8.029902418844012,
          3.748130490374032,
          -3.156154208264111,
          29.721248972775005,
          16.092405827969987,
          -63.9726067257431,
          16.469345783633187,
          28.56046702008875,
          39.719261624659914,
          -47.40740515094956,
          -4.975008539689654,
          -5.913568686702183,
          5.160906295351784,
          54.35725772575225,
          -25.198164769432598,
          64.02853574088697,
          45.526513899698514,
          44.560136144679234,
          -22.759245341327958,
          -46.93826551260247,
          38.27949232208179,
          78.67725187584958,
          30.605257751035314,
          -15.158334933070288,
          -7.999606513321535,
          -19.227445878616937,
          -60.67351756877994,
          69.48446442052395
         ]
        },
        {
         "mode": "markers",
         "name": "data",
         "type": "scatter",
         "x": [
          0,
          1,
          2,
          3,
          4,
          5,
          6,
          7,
          8,
          9,
          10,
          11,
          12,
          13,
          14,
          15,
          16,
          17,
          18,
          19,
          20,
          21,
          22,
          23,
          24,
          25,
          26,
          27,
          28,
          29,
          30,
          31,
          32,
          33,
          34,
          35,
          36,
          37,
          38,
          39,
          40,
          41,
          42,
          43,
          44,
          45,
          46,
          47,
          48,
          49,
          50,
          51,
          52,
          53,
          54,
          55,
          56,
          57,
          58,
          59,
          60,
          61,
          62,
          63,
          64,
          65,
          66,
          67,
          68,
          69,
          70,
          71,
          72,
          73,
          74,
          75,
          76,
          77,
          78,
          79,
          80,
          81,
          82,
          83,
          84,
          85,
          86,
          87,
          88,
          89,
          90,
          91,
          92,
          93,
          94,
          95,
          96,
          97,
          98,
          99
         ],
         "y": [
          -76.45472762391593,
          -20.499459136153007,
          -15.32366152573023,
          -40.54799634506415,
          37.743189266024935,
          -27.206348755647802,
          -23.08138227759234,
          57.175709824847466,
          5.854125361527839,
          46.6202343166619,
          -32.46272225161939,
          -59.18203753214483,
          36.70059177244465,
          82.55808869625943,
          -33.95046447958405,
          48.77460382575083,
          -2.657594981019278,
          41.214924052413494,
          -17.01839829032516,
          -56.53645657269908,
          28.675777279184217,
          30.668944882497243,
          18.062406442675687,
          43.36506186027208,
          66.73060192136347,
          37.01301703657806,
          32.81474769698173,
          -41.2243753093107,
          -52.37318243223257,
          -21.54612899020946,
          11.038922428508643,
          17.70016821998111,
          54.48100486005566,
          -19.723012599178997,
          4.52937539210712,
          8.622752339355133,
          55.76253274529232,
          10.256710778309357,
          -40.115762364515234,
          39.559159412214896,
          10.684948572498989,
          -25.328541049094582,
          -72.74623407702249,
          16.860521286930346,
          -57.724420250200126,
          -63.58543104965213,
          0.07685133745080286,
          -27.97885758922734,
          -20.388440558513093,
          -18.522699907630926,
          -38.56913052084688,
          -0.5030583367478059,
          -3.3153674956105945,
          -64.07285023212559,
          -30.547503289170344,
          -24.91775689360255,
          -53.785049036832206,
          -13.991412033604558,
          46.18506121801899,
          17.17835688717863,
          -11.810424119723653,
          -0.33028551490425784,
          -1.6237721238262104,
          24.904878256016257,
          -122.72268528914728,
          -16.02747099911161,
          -77.82225214741139,
          13.332385625379944,
          49.75067182264604,
          55.822166169338516,
          19.632816677988686,
          63.7487446270111,
          8.162258392679695,
          3.999334401147248,
          -3.048727318749391,
          29.859306348759283,
          16.265263362428026,
          -63.47151297828846,
          16.606187044265397,
          28.58265807048505,
          39.53439660656958,
          -47.2939210662209,
          -4.837363098750345,
          -5.993063145041559,
          5.327891997850368,
          54.290308610815615,
          -25.15527943740568,
          64.01899992485684,
          45.44719616424766,
          44.74258275130924,
          -23.065988984550195,
          -47.16365478090296,
          38.260680942937334,
          78.80789525656479,
          30.821002620488528,
          -15.289020779805771,
          -8.315009463704534,
          -19.39023197323079,
          -60.647889594190076,
          69.4623991769314
         ]
        }
       ],
       "layout": {
        "template": {
         "data": {
          "bar": [
           {
            "error_x": {
             "color": "#2a3f5f"
            },
            "error_y": {
             "color": "#2a3f5f"
            },
            "marker": {
             "line": {
              "color": "#E5ECF6",
              "width": 0.5
             },
             "pattern": {
              "fillmode": "overlay",
              "size": 10,
              "solidity": 0.2
             }
            },
            "type": "bar"
           }
          ],
          "barpolar": [
           {
            "marker": {
             "line": {
              "color": "#E5ECF6",
              "width": 0.5
             },
             "pattern": {
              "fillmode": "overlay",
              "size": 10,
              "solidity": 0.2
             }
            },
            "type": "barpolar"
           }
          ],
          "carpet": [
           {
            "aaxis": {
             "endlinecolor": "#2a3f5f",
             "gridcolor": "white",
             "linecolor": "white",
             "minorgridcolor": "white",
             "startlinecolor": "#2a3f5f"
            },
            "baxis": {
             "endlinecolor": "#2a3f5f",
             "gridcolor": "white",
             "linecolor": "white",
             "minorgridcolor": "white",
             "startlinecolor": "#2a3f5f"
            },
            "type": "carpet"
           }
          ],
          "choropleth": [
           {
            "colorbar": {
             "outlinewidth": 0,
             "ticks": ""
            },
            "type": "choropleth"
           }
          ],
          "contour": [
           {
            "colorbar": {
             "outlinewidth": 0,
             "ticks": ""
            },
            "colorscale": [
             [
              0,
              "#0d0887"
             ],
             [
              0.1111111111111111,
              "#46039f"
             ],
             [
              0.2222222222222222,
              "#7201a8"
             ],
             [
              0.3333333333333333,
              "#9c179e"
             ],
             [
              0.4444444444444444,
              "#bd3786"
             ],
             [
              0.5555555555555556,
              "#d8576b"
             ],
             [
              0.6666666666666666,
              "#ed7953"
             ],
             [
              0.7777777777777778,
              "#fb9f3a"
             ],
             [
              0.8888888888888888,
              "#fdca26"
             ],
             [
              1,
              "#f0f921"
             ]
            ],
            "type": "contour"
           }
          ],
          "contourcarpet": [
           {
            "colorbar": {
             "outlinewidth": 0,
             "ticks": ""
            },
            "type": "contourcarpet"
           }
          ],
          "heatmap": [
           {
            "colorbar": {
             "outlinewidth": 0,
             "ticks": ""
            },
            "colorscale": [
             [
              0,
              "#0d0887"
             ],
             [
              0.1111111111111111,
              "#46039f"
             ],
             [
              0.2222222222222222,
              "#7201a8"
             ],
             [
              0.3333333333333333,
              "#9c179e"
             ],
             [
              0.4444444444444444,
              "#bd3786"
             ],
             [
              0.5555555555555556,
              "#d8576b"
             ],
             [
              0.6666666666666666,
              "#ed7953"
             ],
             [
              0.7777777777777778,
              "#fb9f3a"
             ],
             [
              0.8888888888888888,
              "#fdca26"
             ],
             [
              1,
              "#f0f921"
             ]
            ],
            "type": "heatmap"
           }
          ],
          "heatmapgl": [
           {
            "colorbar": {
             "outlinewidth": 0,
             "ticks": ""
            },
            "colorscale": [
             [
              0,
              "#0d0887"
             ],
             [
              0.1111111111111111,
              "#46039f"
             ],
             [
              0.2222222222222222,
              "#7201a8"
             ],
             [
              0.3333333333333333,
              "#9c179e"
             ],
             [
              0.4444444444444444,
              "#bd3786"
             ],
             [
              0.5555555555555556,
              "#d8576b"
             ],
             [
              0.6666666666666666,
              "#ed7953"
             ],
             [
              0.7777777777777778,
              "#fb9f3a"
             ],
             [
              0.8888888888888888,
              "#fdca26"
             ],
             [
              1,
              "#f0f921"
             ]
            ],
            "type": "heatmapgl"
           }
          ],
          "histogram": [
           {
            "marker": {
             "pattern": {
              "fillmode": "overlay",
              "size": 10,
              "solidity": 0.2
             }
            },
            "type": "histogram"
           }
          ],
          "histogram2d": [
           {
            "colorbar": {
             "outlinewidth": 0,
             "ticks": ""
            },
            "colorscale": [
             [
              0,
              "#0d0887"
             ],
             [
              0.1111111111111111,
              "#46039f"
             ],
             [
              0.2222222222222222,
              "#7201a8"
             ],
             [
              0.3333333333333333,
              "#9c179e"
             ],
             [
              0.4444444444444444,
              "#bd3786"
             ],
             [
              0.5555555555555556,
              "#d8576b"
             ],
             [
              0.6666666666666666,
              "#ed7953"
             ],
             [
              0.7777777777777778,
              "#fb9f3a"
             ],
             [
              0.8888888888888888,
              "#fdca26"
             ],
             [
              1,
              "#f0f921"
             ]
            ],
            "type": "histogram2d"
           }
          ],
          "histogram2dcontour": [
           {
            "colorbar": {
             "outlinewidth": 0,
             "ticks": ""
            },
            "colorscale": [
             [
              0,
              "#0d0887"
             ],
             [
              0.1111111111111111,
              "#46039f"
             ],
             [
              0.2222222222222222,
              "#7201a8"
             ],
             [
              0.3333333333333333,
              "#9c179e"
             ],
             [
              0.4444444444444444,
              "#bd3786"
             ],
             [
              0.5555555555555556,
              "#d8576b"
             ],
             [
              0.6666666666666666,
              "#ed7953"
             ],
             [
              0.7777777777777778,
              "#fb9f3a"
             ],
             [
              0.8888888888888888,
              "#fdca26"
             ],
             [
              1,
              "#f0f921"
             ]
            ],
            "type": "histogram2dcontour"
           }
          ],
          "mesh3d": [
           {
            "colorbar": {
             "outlinewidth": 0,
             "ticks": ""
            },
            "type": "mesh3d"
           }
          ],
          "parcoords": [
           {
            "line": {
             "colorbar": {
              "outlinewidth": 0,
              "ticks": ""
             }
            },
            "type": "parcoords"
           }
          ],
          "pie": [
           {
            "automargin": true,
            "type": "pie"
           }
          ],
          "scatter": [
           {
            "marker": {
             "colorbar": {
              "outlinewidth": 0,
              "ticks": ""
             }
            },
            "type": "scatter"
           }
          ],
          "scatter3d": [
           {
            "line": {
             "colorbar": {
              "outlinewidth": 0,
              "ticks": ""
             }
            },
            "marker": {
             "colorbar": {
              "outlinewidth": 0,
              "ticks": ""
             }
            },
            "type": "scatter3d"
           }
          ],
          "scattercarpet": [
           {
            "marker": {
             "colorbar": {
              "outlinewidth": 0,
              "ticks": ""
             }
            },
            "type": "scattercarpet"
           }
          ],
          "scattergeo": [
           {
            "marker": {
             "colorbar": {
              "outlinewidth": 0,
              "ticks": ""
             }
            },
            "type": "scattergeo"
           }
          ],
          "scattergl": [
           {
            "marker": {
             "colorbar": {
              "outlinewidth": 0,
              "ticks": ""
             }
            },
            "type": "scattergl"
           }
          ],
          "scattermapbox": [
           {
            "marker": {
             "colorbar": {
              "outlinewidth": 0,
              "ticks": ""
             }
            },
            "type": "scattermapbox"
           }
          ],
          "scatterpolar": [
           {
            "marker": {
             "colorbar": {
              "outlinewidth": 0,
              "ticks": ""
             }
            },
            "type": "scatterpolar"
           }
          ],
          "scatterpolargl": [
           {
            "marker": {
             "colorbar": {
              "outlinewidth": 0,
              "ticks": ""
             }
            },
            "type": "scatterpolargl"
           }
          ],
          "scatterternary": [
           {
            "marker": {
             "colorbar": {
              "outlinewidth": 0,
              "ticks": ""
             }
            },
            "type": "scatterternary"
           }
          ],
          "surface": [
           {
            "colorbar": {
             "outlinewidth": 0,
             "ticks": ""
            },
            "colorscale": [
             [
              0,
              "#0d0887"
             ],
             [
              0.1111111111111111,
              "#46039f"
             ],
             [
              0.2222222222222222,
              "#7201a8"
             ],
             [
              0.3333333333333333,
              "#9c179e"
             ],
             [
              0.4444444444444444,
              "#bd3786"
             ],
             [
              0.5555555555555556,
              "#d8576b"
             ],
             [
              0.6666666666666666,
              "#ed7953"
             ],
             [
              0.7777777777777778,
              "#fb9f3a"
             ],
             [
              0.8888888888888888,
              "#fdca26"
             ],
             [
              1,
              "#f0f921"
             ]
            ],
            "type": "surface"
           }
          ],
          "table": [
           {
            "cells": {
             "fill": {
              "color": "#EBF0F8"
             },
             "line": {
              "color": "white"
             }
            },
            "header": {
             "fill": {
              "color": "#C8D4E3"
             },
             "line": {
              "color": "white"
             }
            },
            "type": "table"
           }
          ]
         },
         "layout": {
          "annotationdefaults": {
           "arrowcolor": "#2a3f5f",
           "arrowhead": 0,
           "arrowwidth": 1
          },
          "autotypenumbers": "strict",
          "coloraxis": {
           "colorbar": {
            "outlinewidth": 0,
            "ticks": ""
           }
          },
          "colorscale": {
           "diverging": [
            [
             0,
             "#8e0152"
            ],
            [
             0.1,
             "#c51b7d"
            ],
            [
             0.2,
             "#de77ae"
            ],
            [
             0.3,
             "#f1b6da"
            ],
            [
             0.4,
             "#fde0ef"
            ],
            [
             0.5,
             "#f7f7f7"
            ],
            [
             0.6,
             "#e6f5d0"
            ],
            [
             0.7,
             "#b8e186"
            ],
            [
             0.8,
             "#7fbc41"
            ],
            [
             0.9,
             "#4d9221"
            ],
            [
             1,
             "#276419"
            ]
           ],
           "sequential": [
            [
             0,
             "#0d0887"
            ],
            [
             0.1111111111111111,
             "#46039f"
            ],
            [
             0.2222222222222222,
             "#7201a8"
            ],
            [
             0.3333333333333333,
             "#9c179e"
            ],
            [
             0.4444444444444444,
             "#bd3786"
            ],
            [
             0.5555555555555556,
             "#d8576b"
            ],
            [
             0.6666666666666666,
             "#ed7953"
            ],
            [
             0.7777777777777778,
             "#fb9f3a"
            ],
            [
             0.8888888888888888,
             "#fdca26"
            ],
            [
             1,
             "#f0f921"
            ]
           ],
           "sequentialminus": [
            [
             0,
             "#0d0887"
            ],
            [
             0.1111111111111111,
             "#46039f"
            ],
            [
             0.2222222222222222,
             "#7201a8"
            ],
            [
             0.3333333333333333,
             "#9c179e"
            ],
            [
             0.4444444444444444,
             "#bd3786"
            ],
            [
             0.5555555555555556,
             "#d8576b"
            ],
            [
             0.6666666666666666,
             "#ed7953"
            ],
            [
             0.7777777777777778,
             "#fb9f3a"
            ],
            [
             0.8888888888888888,
             "#fdca26"
            ],
            [
             1,
             "#f0f921"
            ]
           ]
          },
          "colorway": [
           "#636efa",
           "#EF553B",
           "#00cc96",
           "#ab63fa",
           "#FFA15A",
           "#19d3f3",
           "#FF6692",
           "#B6E880",
           "#FF97FF",
           "#FECB52"
          ],
          "font": {
           "color": "#2a3f5f"
          },
          "geo": {
           "bgcolor": "white",
           "lakecolor": "white",
           "landcolor": "#E5ECF6",
           "showlakes": true,
           "showland": true,
           "subunitcolor": "white"
          },
          "hoverlabel": {
           "align": "left"
          },
          "hovermode": "closest",
          "mapbox": {
           "style": "light"
          },
          "paper_bgcolor": "white",
          "plot_bgcolor": "#E5ECF6",
          "polar": {
           "angularaxis": {
            "gridcolor": "white",
            "linecolor": "white",
            "ticks": ""
           },
           "bgcolor": "#E5ECF6",
           "radialaxis": {
            "gridcolor": "white",
            "linecolor": "white",
            "ticks": ""
           }
          },
          "scene": {
           "xaxis": {
            "backgroundcolor": "#E5ECF6",
            "gridcolor": "white",
            "gridwidth": 2,
            "linecolor": "white",
            "showbackground": true,
            "ticks": "",
            "zerolinecolor": "white"
           },
           "yaxis": {
            "backgroundcolor": "#E5ECF6",
            "gridcolor": "white",
            "gridwidth": 2,
            "linecolor": "white",
            "showbackground": true,
            "ticks": "",
            "zerolinecolor": "white"
           },
           "zaxis": {
            "backgroundcolor": "#E5ECF6",
            "gridcolor": "white",
            "gridwidth": 2,
            "linecolor": "white",
            "showbackground": true,
            "ticks": "",
            "zerolinecolor": "white"
           }
          },
          "shapedefaults": {
           "line": {
            "color": "#2a3f5f"
           }
          },
          "ternary": {
           "aaxis": {
            "gridcolor": "white",
            "linecolor": "white",
            "ticks": ""
           },
           "baxis": {
            "gridcolor": "white",
            "linecolor": "white",
            "ticks": ""
           },
           "bgcolor": "#E5ECF6",
           "caxis": {
            "gridcolor": "white",
            "linecolor": "white",
            "ticks": ""
           }
          },
          "title": {
           "x": 0.05
          },
          "xaxis": {
           "automargin": true,
           "gridcolor": "white",
           "linecolor": "white",
           "ticks": "",
           "title": {
            "standoff": 15
           },
           "zerolinecolor": "white",
           "zerolinewidth": 2
          },
          "yaxis": {
           "automargin": true,
           "gridcolor": "white",
           "linecolor": "white",
           "ticks": "",
           "title": {
            "standoff": 15
           },
           "zerolinecolor": "white",
           "zerolinewidth": 2
          }
         }
        }
       }
      },
      "text/html": [
       "<div>                            <div id=\"cb35da8b-0b62-49e5-b194-20dacee9813f\" class=\"plotly-graph-div\" style=\"height:525px; width:100%;\"></div>            <script type=\"text/javascript\">                require([\"plotly\"], function(Plotly) {                    window.PLOTLYENV=window.PLOTLYENV || {};                                    if (document.getElementById(\"cb35da8b-0b62-49e5-b194-20dacee9813f\")) {                    Plotly.newPlot(                        \"cb35da8b-0b62-49e5-b194-20dacee9813f\",                        [{\"mode\":\"lines\",\"name\":\"mmm\",\"type\":\"scatter\",\"x\":[0,1,2,3,4,5,6,7,8,9,10,11,12,13,14,15,16,17,18,19,20,21,22,23,24,25,26,27,28,29,30,31,32,33,34,35,36,37,38,39,40,41,42,43,44,45,46,47,48,49,50,51,52,53,54,55,56,57,58,59,60,61,62,63,64,65,66,67,68,69,70,71,72,73,74,75,76,77,78,79,80,81,82,83,84,85,86,87,88,89,90,91,92,93,94,95,96,97,98,99],\"y\":[-76.76074800269554,-20.42594885084548,-15.184347697091972,-40.60000463293241,38.00233532848989,-27.30297120193081,-22.834032376856825,57.52288083758298,5.8598143457169884,46.82063570984304,-32.55681539891966,-59.22434129777521,36.457174046358794,82.6493335370788,-33.98825050316704,49.073538570909534,-2.645802355339306,41.076091852791706,-17.157603780763512,-56.300720367676874,28.81653314008649,30.665940908407052,18.077590243196788,43.339736475134686,66.70478059284795,37.06341710114423,32.67581691991747,-41.339819616037325,-52.40391220054185,-21.919107814373486,11.052410861554923,17.735645403589782,54.531998023276245,-19.621498319154128,4.220417620134173,8.460057631560305,55.890739841954236,10.226229377568236,-40.13639310256789,39.458223902057966,10.619369218865469,-25.28476456770121,-72.65680608675125,16.372672471977875,-57.66953213910847,-63.37937902596727,0.0803998988455441,-27.5847520413717,-20.17953729793353,-18.57177169798658,-38.62031924717867,-0.44189539382365206,-3.3455190158948636,-63.87454022265031,-30.47532444853395,-25.547903155613565,-54.049124376221826,-13.97771003275594,46.589519789243035,17.1880591708657,-11.431983375745617,-0.36840267697985674,-1.317539011834545,25.111041942626382,-122.21634363605013,-16.530226617113353,-77.79610283842693,13.069749273815013,49.96697685271302,55.70089746465157,19.84476823172392,63.55556186345997,8.029902418844012,3.748130490374032,-3.156154208264111,29.721248972775005,16.092405827969987,-63.9726067257431,16.469345783633187,28.56046702008875,39.719261624659914,-47.40740515094956,-4.975008539689654,-5.913568686702183,5.160906295351784,54.35725772575225,-25.198164769432598,64.02853574088697,45.526513899698514,44.560136144679234,-22.759245341327958,-46.93826551260247,38.27949232208179,78.67725187584958,30.605257751035314,-15.158334933070288,-7.999606513321535,-19.227445878616937,-60.67351756877994,69.48446442052395]},{\"mode\":\"markers\",\"name\":\"data\",\"type\":\"scatter\",\"x\":[0,1,2,3,4,5,6,7,8,9,10,11,12,13,14,15,16,17,18,19,20,21,22,23,24,25,26,27,28,29,30,31,32,33,34,35,36,37,38,39,40,41,42,43,44,45,46,47,48,49,50,51,52,53,54,55,56,57,58,59,60,61,62,63,64,65,66,67,68,69,70,71,72,73,74,75,76,77,78,79,80,81,82,83,84,85,86,87,88,89,90,91,92,93,94,95,96,97,98,99],\"y\":[-76.45472762391593,-20.499459136153007,-15.32366152573023,-40.54799634506415,37.743189266024935,-27.206348755647802,-23.08138227759234,57.175709824847466,5.854125361527839,46.6202343166619,-32.46272225161939,-59.18203753214483,36.70059177244465,82.55808869625943,-33.95046447958405,48.77460382575083,-2.657594981019278,41.214924052413494,-17.01839829032516,-56.53645657269908,28.675777279184217,30.668944882497243,18.062406442675687,43.36506186027208,66.73060192136347,37.01301703657806,32.81474769698173,-41.2243753093107,-52.37318243223257,-21.54612899020946,11.038922428508643,17.70016821998111,54.48100486005566,-19.723012599178997,4.52937539210712,8.622752339355133,55.76253274529232,10.256710778309357,-40.115762364515234,39.559159412214896,10.684948572498989,-25.328541049094582,-72.74623407702249,16.860521286930346,-57.724420250200126,-63.58543104965213,0.07685133745080286,-27.97885758922734,-20.388440558513093,-18.522699907630926,-38.56913052084688,-0.5030583367478059,-3.3153674956105945,-64.07285023212559,-30.547503289170344,-24.91775689360255,-53.785049036832206,-13.991412033604558,46.18506121801899,17.17835688717863,-11.810424119723653,-0.33028551490425784,-1.6237721238262104,24.904878256016257,-122.72268528914728,-16.02747099911161,-77.82225214741139,13.332385625379944,49.75067182264604,55.822166169338516,19.632816677988686,63.7487446270111,8.162258392679695,3.999334401147248,-3.048727318749391,29.859306348759283,16.265263362428026,-63.47151297828846,16.606187044265397,28.58265807048505,39.53439660656958,-47.2939210662209,-4.837363098750345,-5.993063145041559,5.327891997850368,54.290308610815615,-25.15527943740568,64.01899992485684,45.44719616424766,44.74258275130924,-23.065988984550195,-47.16365478090296,38.260680942937334,78.80789525656479,30.821002620488528,-15.289020779805771,-8.315009463704534,-19.39023197323079,-60.647889594190076,69.4623991769314]}],                        {\"template\":{\"data\":{\"bar\":[{\"error_x\":{\"color\":\"#2a3f5f\"},\"error_y\":{\"color\":\"#2a3f5f\"},\"marker\":{\"line\":{\"color\":\"#E5ECF6\",\"width\":0.5},\"pattern\":{\"fillmode\":\"overlay\",\"size\":10,\"solidity\":0.2}},\"type\":\"bar\"}],\"barpolar\":[{\"marker\":{\"line\":{\"color\":\"#E5ECF6\",\"width\":0.5},\"pattern\":{\"fillmode\":\"overlay\",\"size\":10,\"solidity\":0.2}},\"type\":\"barpolar\"}],\"carpet\":[{\"aaxis\":{\"endlinecolor\":\"#2a3f5f\",\"gridcolor\":\"white\",\"linecolor\":\"white\",\"minorgridcolor\":\"white\",\"startlinecolor\":\"#2a3f5f\"},\"baxis\":{\"endlinecolor\":\"#2a3f5f\",\"gridcolor\":\"white\",\"linecolor\":\"white\",\"minorgridcolor\":\"white\",\"startlinecolor\":\"#2a3f5f\"},\"type\":\"carpet\"}],\"choropleth\":[{\"colorbar\":{\"outlinewidth\":0,\"ticks\":\"\"},\"type\":\"choropleth\"}],\"contour\":[{\"colorbar\":{\"outlinewidth\":0,\"ticks\":\"\"},\"colorscale\":[[0.0,\"#0d0887\"],[0.1111111111111111,\"#46039f\"],[0.2222222222222222,\"#7201a8\"],[0.3333333333333333,\"#9c179e\"],[0.4444444444444444,\"#bd3786\"],[0.5555555555555556,\"#d8576b\"],[0.6666666666666666,\"#ed7953\"],[0.7777777777777778,\"#fb9f3a\"],[0.8888888888888888,\"#fdca26\"],[1.0,\"#f0f921\"]],\"type\":\"contour\"}],\"contourcarpet\":[{\"colorbar\":{\"outlinewidth\":0,\"ticks\":\"\"},\"type\":\"contourcarpet\"}],\"heatmap\":[{\"colorbar\":{\"outlinewidth\":0,\"ticks\":\"\"},\"colorscale\":[[0.0,\"#0d0887\"],[0.1111111111111111,\"#46039f\"],[0.2222222222222222,\"#7201a8\"],[0.3333333333333333,\"#9c179e\"],[0.4444444444444444,\"#bd3786\"],[0.5555555555555556,\"#d8576b\"],[0.6666666666666666,\"#ed7953\"],[0.7777777777777778,\"#fb9f3a\"],[0.8888888888888888,\"#fdca26\"],[1.0,\"#f0f921\"]],\"type\":\"heatmap\"}],\"heatmapgl\":[{\"colorbar\":{\"outlinewidth\":0,\"ticks\":\"\"},\"colorscale\":[[0.0,\"#0d0887\"],[0.1111111111111111,\"#46039f\"],[0.2222222222222222,\"#7201a8\"],[0.3333333333333333,\"#9c179e\"],[0.4444444444444444,\"#bd3786\"],[0.5555555555555556,\"#d8576b\"],[0.6666666666666666,\"#ed7953\"],[0.7777777777777778,\"#fb9f3a\"],[0.8888888888888888,\"#fdca26\"],[1.0,\"#f0f921\"]],\"type\":\"heatmapgl\"}],\"histogram\":[{\"marker\":{\"pattern\":{\"fillmode\":\"overlay\",\"size\":10,\"solidity\":0.2}},\"type\":\"histogram\"}],\"histogram2d\":[{\"colorbar\":{\"outlinewidth\":0,\"ticks\":\"\"},\"colorscale\":[[0.0,\"#0d0887\"],[0.1111111111111111,\"#46039f\"],[0.2222222222222222,\"#7201a8\"],[0.3333333333333333,\"#9c179e\"],[0.4444444444444444,\"#bd3786\"],[0.5555555555555556,\"#d8576b\"],[0.6666666666666666,\"#ed7953\"],[0.7777777777777778,\"#fb9f3a\"],[0.8888888888888888,\"#fdca26\"],[1.0,\"#f0f921\"]],\"type\":\"histogram2d\"}],\"histogram2dcontour\":[{\"colorbar\":{\"outlinewidth\":0,\"ticks\":\"\"},\"colorscale\":[[0.0,\"#0d0887\"],[0.1111111111111111,\"#46039f\"],[0.2222222222222222,\"#7201a8\"],[0.3333333333333333,\"#9c179e\"],[0.4444444444444444,\"#bd3786\"],[0.5555555555555556,\"#d8576b\"],[0.6666666666666666,\"#ed7953\"],[0.7777777777777778,\"#fb9f3a\"],[0.8888888888888888,\"#fdca26\"],[1.0,\"#f0f921\"]],\"type\":\"histogram2dcontour\"}],\"mesh3d\":[{\"colorbar\":{\"outlinewidth\":0,\"ticks\":\"\"},\"type\":\"mesh3d\"}],\"parcoords\":[{\"line\":{\"colorbar\":{\"outlinewidth\":0,\"ticks\":\"\"}},\"type\":\"parcoords\"}],\"pie\":[{\"automargin\":true,\"type\":\"pie\"}],\"scatter\":[{\"marker\":{\"colorbar\":{\"outlinewidth\":0,\"ticks\":\"\"}},\"type\":\"scatter\"}],\"scatter3d\":[{\"line\":{\"colorbar\":{\"outlinewidth\":0,\"ticks\":\"\"}},\"marker\":{\"colorbar\":{\"outlinewidth\":0,\"ticks\":\"\"}},\"type\":\"scatter3d\"}],\"scattercarpet\":[{\"marker\":{\"colorbar\":{\"outlinewidth\":0,\"ticks\":\"\"}},\"type\":\"scattercarpet\"}],\"scattergeo\":[{\"marker\":{\"colorbar\":{\"outlinewidth\":0,\"ticks\":\"\"}},\"type\":\"scattergeo\"}],\"scattergl\":[{\"marker\":{\"colorbar\":{\"outlinewidth\":0,\"ticks\":\"\"}},\"type\":\"scattergl\"}],\"scattermapbox\":[{\"marker\":{\"colorbar\":{\"outlinewidth\":0,\"ticks\":\"\"}},\"type\":\"scattermapbox\"}],\"scatterpolar\":[{\"marker\":{\"colorbar\":{\"outlinewidth\":0,\"ticks\":\"\"}},\"type\":\"scatterpolar\"}],\"scatterpolargl\":[{\"marker\":{\"colorbar\":{\"outlinewidth\":0,\"ticks\":\"\"}},\"type\":\"scatterpolargl\"}],\"scatterternary\":[{\"marker\":{\"colorbar\":{\"outlinewidth\":0,\"ticks\":\"\"}},\"type\":\"scatterternary\"}],\"surface\":[{\"colorbar\":{\"outlinewidth\":0,\"ticks\":\"\"},\"colorscale\":[[0.0,\"#0d0887\"],[0.1111111111111111,\"#46039f\"],[0.2222222222222222,\"#7201a8\"],[0.3333333333333333,\"#9c179e\"],[0.4444444444444444,\"#bd3786\"],[0.5555555555555556,\"#d8576b\"],[0.6666666666666666,\"#ed7953\"],[0.7777777777777778,\"#fb9f3a\"],[0.8888888888888888,\"#fdca26\"],[1.0,\"#f0f921\"]],\"type\":\"surface\"}],\"table\":[{\"cells\":{\"fill\":{\"color\":\"#EBF0F8\"},\"line\":{\"color\":\"white\"}},\"header\":{\"fill\":{\"color\":\"#C8D4E3\"},\"line\":{\"color\":\"white\"}},\"type\":\"table\"}]},\"layout\":{\"annotationdefaults\":{\"arrowcolor\":\"#2a3f5f\",\"arrowhead\":0,\"arrowwidth\":1},\"autotypenumbers\":\"strict\",\"coloraxis\":{\"colorbar\":{\"outlinewidth\":0,\"ticks\":\"\"}},\"colorscale\":{\"diverging\":[[0,\"#8e0152\"],[0.1,\"#c51b7d\"],[0.2,\"#de77ae\"],[0.3,\"#f1b6da\"],[0.4,\"#fde0ef\"],[0.5,\"#f7f7f7\"],[0.6,\"#e6f5d0\"],[0.7,\"#b8e186\"],[0.8,\"#7fbc41\"],[0.9,\"#4d9221\"],[1,\"#276419\"]],\"sequential\":[[0.0,\"#0d0887\"],[0.1111111111111111,\"#46039f\"],[0.2222222222222222,\"#7201a8\"],[0.3333333333333333,\"#9c179e\"],[0.4444444444444444,\"#bd3786\"],[0.5555555555555556,\"#d8576b\"],[0.6666666666666666,\"#ed7953\"],[0.7777777777777778,\"#fb9f3a\"],[0.8888888888888888,\"#fdca26\"],[1.0,\"#f0f921\"]],\"sequentialminus\":[[0.0,\"#0d0887\"],[0.1111111111111111,\"#46039f\"],[0.2222222222222222,\"#7201a8\"],[0.3333333333333333,\"#9c179e\"],[0.4444444444444444,\"#bd3786\"],[0.5555555555555556,\"#d8576b\"],[0.6666666666666666,\"#ed7953\"],[0.7777777777777778,\"#fb9f3a\"],[0.8888888888888888,\"#fdca26\"],[1.0,\"#f0f921\"]]},\"colorway\":[\"#636efa\",\"#EF553B\",\"#00cc96\",\"#ab63fa\",\"#FFA15A\",\"#19d3f3\",\"#FF6692\",\"#B6E880\",\"#FF97FF\",\"#FECB52\"],\"font\":{\"color\":\"#2a3f5f\"},\"geo\":{\"bgcolor\":\"white\",\"lakecolor\":\"white\",\"landcolor\":\"#E5ECF6\",\"showlakes\":true,\"showland\":true,\"subunitcolor\":\"white\"},\"hoverlabel\":{\"align\":\"left\"},\"hovermode\":\"closest\",\"mapbox\":{\"style\":\"light\"},\"paper_bgcolor\":\"white\",\"plot_bgcolor\":\"#E5ECF6\",\"polar\":{\"angularaxis\":{\"gridcolor\":\"white\",\"linecolor\":\"white\",\"ticks\":\"\"},\"bgcolor\":\"#E5ECF6\",\"radialaxis\":{\"gridcolor\":\"white\",\"linecolor\":\"white\",\"ticks\":\"\"}},\"scene\":{\"xaxis\":{\"backgroundcolor\":\"#E5ECF6\",\"gridcolor\":\"white\",\"gridwidth\":2,\"linecolor\":\"white\",\"showbackground\":true,\"ticks\":\"\",\"zerolinecolor\":\"white\"},\"yaxis\":{\"backgroundcolor\":\"#E5ECF6\",\"gridcolor\":\"white\",\"gridwidth\":2,\"linecolor\":\"white\",\"showbackground\":true,\"ticks\":\"\",\"zerolinecolor\":\"white\"},\"zaxis\":{\"backgroundcolor\":\"#E5ECF6\",\"gridcolor\":\"white\",\"gridwidth\":2,\"linecolor\":\"white\",\"showbackground\":true,\"ticks\":\"\",\"zerolinecolor\":\"white\"}},\"shapedefaults\":{\"line\":{\"color\":\"#2a3f5f\"}},\"ternary\":{\"aaxis\":{\"gridcolor\":\"white\",\"linecolor\":\"white\",\"ticks\":\"\"},\"baxis\":{\"gridcolor\":\"white\",\"linecolor\":\"white\",\"ticks\":\"\"},\"bgcolor\":\"#E5ECF6\",\"caxis\":{\"gridcolor\":\"white\",\"linecolor\":\"white\",\"ticks\":\"\"}},\"title\":{\"x\":0.05},\"xaxis\":{\"automargin\":true,\"gridcolor\":\"white\",\"linecolor\":\"white\",\"ticks\":\"\",\"title\":{\"standoff\":15},\"zerolinecolor\":\"white\",\"zerolinewidth\":2},\"yaxis\":{\"automargin\":true,\"gridcolor\":\"white\",\"linecolor\":\"white\",\"ticks\":\"\",\"title\":{\"standoff\":15},\"zerolinecolor\":\"white\",\"zerolinewidth\":2}}}},                        {\"responsive\": true}                    ).then(function(){\n",
       "                            \n",
       "var gd = document.getElementById('cb35da8b-0b62-49e5-b194-20dacee9813f');\n",
       "var x = new MutationObserver(function (mutations, observer) {{\n",
       "        var display = window.getComputedStyle(gd).display;\n",
       "        if (!display || display === 'none') {{\n",
       "            console.log([gd, 'removed!']);\n",
       "            Plotly.purge(gd);\n",
       "            observer.disconnect();\n",
       "        }}\n",
       "}});\n",
       "\n",
       "// Listen for the removal of the full notebook cells\n",
       "var notebookContainer = gd.closest('#notebook-container');\n",
       "if (notebookContainer) {{\n",
       "    x.observe(notebookContainer, {childList: true});\n",
       "}}\n",
       "\n",
       "// Listen for the clearing of the current output cell\n",
       "var outputEl = gd.closest('.output');\n",
       "if (outputEl) {{\n",
       "    x.observe(outputEl, {childList: true});\n",
       "}}\n",
       "\n",
       "                        })                };                });            </script>        </div>"
      ]
     },
     "metadata": {},
     "output_type": "display_data"
    }
   ],
   "source": [
    "if __name__ == '__main__':\n",
    "    \"\"\"plot best model\"\"\"\n",
    "    GDM.model.x = r_df.loc[0,'x0']\n",
    "    GDM.args = [r_df.loc[0, 'x']]\n",
    "    y1 = GDM.predict(data_df)\n",
    "    y2 = data_df['sales']\n",
    "\n",
    "    y1 = GDM.predict(data_df)\n",
    "    y2 = data_df['sales']\n",
    "\n",
    "    fig = go.Figure()\n",
    "    fig.add_trace(\n",
    "        go.Scatter(x = y1.index, y = y1, name = 'mmm', mode='lines')\n",
    "    )\n",
    "    fig.add_trace(\n",
    "        go.Scatter(x = y1.index, y = y2, name = 'data', mode='markers')\n",
    "    )\n",
    "    fig.show()"
   ]
  },
  {
   "cell_type": "code",
   "execution_count": 9,
   "id": "sealed-stephen",
   "metadata": {},
   "outputs": [],
   "source": [
    "if __name__ == '__main__':\n",
    "    \"\"\"save model and data\"\"\"\n",
    "    data_df.to_csv('mmm_data.csv', index=False)\n",
    "    np.savetxt('params.csv', r_df.loc[0, 'x'])\n",
    "    np.savetxt('betas.csv', r_df.loc[0,'x0'])"
   ]
  },
  {
   "cell_type": "code",
   "execution_count": null,
   "id": "overall-background",
   "metadata": {},
   "outputs": [],
   "source": []
  }
 ],
 "metadata": {
  "kernelspec": {
   "display_name": "Python 3",
   "language": "python",
   "name": "python3"
  },
  "language_info": {
   "codemirror_mode": {
    "name": "ipython",
    "version": 3
   },
   "file_extension": ".py",
   "mimetype": "text/x-python",
   "name": "python",
   "nbconvert_exporter": "python",
   "pygments_lexer": "ipython3",
   "version": "3.8.10"
  }
 },
 "nbformat": 4,
 "nbformat_minor": 5
}
